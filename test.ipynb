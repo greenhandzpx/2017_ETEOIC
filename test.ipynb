{
 "cells": [
  {
   "cell_type": "code",
   "execution_count": 10,
   "metadata": {},
   "outputs": [
    {
     "data": {
      "text/plain": [
       "tensor([[ 0.0162,  0.0162],\n",
       "        [-0.0065, -0.0195],\n",
       "        [-0.0330, -0.0330]])"
      ]
     },
     "execution_count": 10,
     "metadata": {},
     "output_type": "execute_result"
    }
   ],
   "source": [
    "import torch\n",
    "\n",
    "\n",
    "a = torch.normal(0, 0.01, size=(3, 1))\n",
    "\n",
    "b = torch.tensor([[3, 3], [1, 3], [4, 4]])\n",
    "\n",
    "a * b"
   ]
  },
  {
   "cell_type": "code",
   "execution_count": 11,
   "metadata": {},
   "outputs": [
    {
     "name": "stderr",
     "output_type": "stream",
     "text": [
      "CRITICAL:root:This is a test. \n"
     ]
    }
   ],
   "source": [
    "import logging\n",
    "\n",
    "#logging.basicConfig(filename=\"./try_log.log\", level=logging.INFO)\n",
    "\n",
    "logging.critical(\"This is a test. \")"
   ]
  },
  {
   "cell_type": "code",
   "execution_count": 12,
   "metadata": {},
   "outputs": [
    {
     "name": "stdout",
     "output_type": "stream",
     "text": [
      "/home/greenhandzpx/CodeField/py_code/2017_ETEOIC/image/train\n"
     ]
    }
   ],
   "source": [
    "import os\n",
    "\n",
    "print(os.path.join(os.getcwd(),\"image/train\"))"
   ]
  },
  {
   "cell_type": "code",
   "execution_count": 13,
   "metadata": {},
   "outputs": [
    {
     "data": {
      "text/plain": [
       "0"
      ]
     },
     "execution_count": 13,
     "metadata": {},
     "output_type": "execute_result"
    }
   ],
   "source": [
    "import torch\n",
    "\n",
    "torch.cuda.device_count()"
   ]
  },
  {
   "cell_type": "code",
   "execution_count": 14,
   "metadata": {},
   "outputs": [],
   "source": [
    "import torchvision.transforms as transforms\n",
    "from PIL import Image   "
   ]
  },
  {
   "cell_type": "code",
   "execution_count": 15,
   "metadata": {},
   "outputs": [],
   "source": [
    "#img = Image.open('image/test/kodim03.png').convert('RGB')\n",
    "img = Image.open('image/train/0.png').convert('RGB')"
   ]
  },
  {
   "cell_type": "code",
   "execution_count": 16,
   "metadata": {},
   "outputs": [
    {
     "name": "stdout",
     "output_type": "stream",
     "text": [
      "torch.Size([3, 256, 256])\n"
     ]
    }
   ],
   "source": [
    "transf = transforms.Resize((256, 256))\n",
    "img = transf(img)\n",
    "transf = transforms.ToTensor()\n",
    "img_tensor = transf(img)  # tensor数据格式是torch(C,H,W)\n",
    "print(img_tensor.size())"
   ]
  },
  {
   "cell_type": "code",
   "execution_count": 17,
   "metadata": {},
   "outputs": [
    {
     "name": "stdout",
     "output_type": "stream",
     "text": [
      "tensor([[[[ 0.,  0.,  0.,  ...,  1.,  0.,  0.],\n",
      "          [ 1.,  0.,  0.,  ...,  0.,  1.,  0.],\n",
      "          [ 1.,  2.,  0.,  ...,  0.,  0.,  1.],\n",
      "          ...,\n",
      "          [ 0., -1.,  0.,  ...,  0.,  0.,  0.],\n",
      "          [-1.,  0.,  1.,  ...,  1.,  0.,  1.],\n",
      "          [ 0.,  0.,  1.,  ...,  0.,  0.,  0.]],\n",
      "\n",
      "         [[-1., -1.,  0.,  ...,  0.,  0.,  0.],\n",
      "          [ 0.,  0.,  0.,  ...,  0.,  0.,  0.],\n",
      "          [ 0.,  0.,  0.,  ...,  0.,  0.,  0.],\n",
      "          ...,\n",
      "          [ 0., -1.,  1.,  ...,  0.,  0., -1.],\n",
      "          [ 0.,  0.,  0.,  ...,  0., -1.,  0.],\n",
      "          [ 0.,  1.,  0.,  ..., -1.,  0.,  0.]],\n",
      "\n",
      "         [[ 0.,  1., -1.,  ..., -1.,  0.,  0.],\n",
      "          [ 0.,  0.,  0.,  ...,  0.,  0.,  0.],\n",
      "          [-1.,  0.,  0.,  ...,  1.,  1.,  1.],\n",
      "          ...,\n",
      "          [-1.,  1.,  1.,  ..., -1., -1.,  1.],\n",
      "          [-1.,  1.,  1.,  ..., -1., -1.,  2.],\n",
      "          [ 0.,  0.,  0.,  ...,  0., -1.,  1.]],\n",
      "\n",
      "         ...,\n",
      "\n",
      "         [[ 0.,  0.,  0.,  ...,  0.,  0.,  0.],\n",
      "          [ 0.,  0.,  0.,  ...,  0.,  0.,  0.],\n",
      "          [ 0.,  0.,  0.,  ...,  0.,  0.,  0.],\n",
      "          ...,\n",
      "          [ 0.,  0.,  0.,  ...,  0.,  0.,  0.],\n",
      "          [ 0.,  0.,  0.,  ...,  0.,  0.,  0.],\n",
      "          [ 0.,  0.,  0.,  ...,  0.,  0.,  0.]],\n",
      "\n",
      "         [[ 0.,  0.,  0.,  ...,  0.,  0.,  0.],\n",
      "          [ 0.,  0.,  0.,  ...,  0.,  0.,  0.],\n",
      "          [ 0.,  0.,  0.,  ...,  0.,  0.,  0.],\n",
      "          ...,\n",
      "          [ 0.,  0.,  0.,  ...,  0.,  0.,  0.],\n",
      "          [ 0.,  0.,  0.,  ...,  0.,  0.,  0.],\n",
      "          [ 0.,  0.,  0.,  ...,  0.,  0.,  0.]],\n",
      "\n",
      "         [[ 0.,  0.,  1.,  ...,  0.,  0.,  0.],\n",
      "          [ 0.,  0.,  0.,  ...,  0.,  0.,  0.],\n",
      "          [ 0.,  0.,  0.,  ...,  0., -1.,  0.],\n",
      "          ...,\n",
      "          [-1., -1.,  0.,  ...,  0.,  0.,  1.],\n",
      "          [ 0.,  0.,  0.,  ...,  0.,  0.,  0.],\n",
      "          [ 0.,  0.,  0.,  ...,  0.,  0.,  0.]]]], grad_fn=<PermuteBackward>)\n"
     ]
    }
   ],
   "source": [
    "from model import Network\n",
    "import torch\n",
    "\n",
    "net = Network(device='cpu')\n",
    "net.load_state_dict(torch.load('model_param/model1024', map_location=torch.device('cpu')))\n",
    "net.eval()\n",
    "\n",
    "img_tensor = img_tensor.reshape([1, 3, 256, 256])\n",
    "com_tensor, _, y = net(img_tensor)\n",
    "print(y)\n",
    "#print(y_hat)"
   ]
  },
  {
   "cell_type": "code",
   "execution_count": null,
   "metadata": {},
   "outputs": [],
   "source": []
  },
  {
   "cell_type": "code",
   "execution_count": 18,
   "metadata": {},
   "outputs": [],
   "source": [
    "# import os\n",
    "# toPIL = transforms.ToPILImage()\n",
    "# for i in range(com_tensor.shape[0]):\n",
    "#     img = toPIL(com_tensor[i].clamp(0., 1.))\n",
    "#     img.save(os.path.join(os.getcwd(), 'image', 'test_results1024',\n",
    "#                             'test_param' + '.bmp'))"
   ]
  },
  {
   "cell_type": "code",
   "execution_count": null,
   "metadata": {},
   "outputs": [],
   "source": []
  }
 ],
 "metadata": {
  "interpreter": {
   "hash": "ce427124b0f07e1566d651c9b158484eee02aa5a8a7002d4fc3840b70d35961f"
  },
  "kernelspec": {
   "display_name": "Python 3 (ipykernel)",
   "language": "python",
   "name": "python3"
  },
  "language_info": {
   "codemirror_mode": {
    "name": "ipython",
    "version": 3
   },
   "file_extension": ".py",
   "mimetype": "text/x-python",
   "name": "python",
   "nbconvert_exporter": "python",
   "pygments_lexer": "ipython3",
   "version": "3.8.12"
  }
 },
 "nbformat": 4,
 "nbformat_minor": 4
}
